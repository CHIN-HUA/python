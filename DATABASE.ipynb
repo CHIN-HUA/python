{
  "nbformat": 4,
  "nbformat_minor": 0,
  "metadata": {
    "colab": {
      "provenance": [],
      "collapsed_sections": [],
      "authorship_tag": "ABX9TyMD0GoeKkQyKr4kQReYqLdN",
      "include_colab_link": true
    },
    "kernelspec": {
      "name": "python3",
      "display_name": "Python 3"
    },
    "language_info": {
      "name": "python"
    }
  },
  "cells": [
    {
      "cell_type": "markdown",
      "metadata": {
        "id": "view-in-github",
        "colab_type": "text"
      },
      "source": [
        "<a href=\"https://colab.research.google.com/github/CHIN-HUA/python/blob/main/DATABASE.ipynb\" target=\"_parent\"><img src=\"https://colab.research.google.com/assets/colab-badge.svg\" alt=\"Open In Colab\"/></a>"
      ]
    },
    {
      "cell_type": "code",
      "execution_count": 66,
      "metadata": {
        "colab": {
          "base_uri": "https://localhost:8080/"
        },
        "id": "RBWloohw6VBu",
        "outputId": "98bbf1a2-3d1f-4079-b163-1ef9069b4157"
      },
      "outputs": [
        {
          "output_type": "stream",
          "name": "stdout",
          "text": [
            "2 -4 0 4\n",
            "[2, -4, 0, 4]\n",
            "[2, -4, 0, 4]\n",
            "[2, -4, 0, 4]\n",
            "4\n",
            "3\n"
          ]
        }
      ],
      "source": [
        "from sympy import *\n",
        "list123 = list(map(int, input().split()))\n",
        "print(list123)\n",
        "\n",
        "string_list = list123\n",
        "print(string_list)\n",
        "\n",
        "int_list = list(map(int, string_list))\n",
        "print(int_list)\n",
        "\n",
        "S = list123\n",
        "print(len(S))\n",
        "\n",
        "sing = int(len(S)) - 1\n",
        "\n",
        "print(sing)"
      ]
    },
    {
      "cell_type": "code",
      "source": [
        "from sympy import *\n",
        "\n",
        "x = symbols('x', communtative = True)\n",
        "f = symbols('f', cls = Function)\n",
        "\n",
        "f = 0\n",
        "for i in range(len(list123)):\n",
        "  f += list123[i]*x**sing \n",
        "  sing = sing-1\n",
        "  \n",
        "  \n",
        "\n",
        "print(\"f'(x) =\", f.diff())\n",
        "print(\"f'(x) =\", diff(f, x))"
      ],
      "metadata": {
        "colab": {
          "base_uri": "https://localhost:8080/"
        },
        "id": "I2iLoMFu7uqb",
        "outputId": "82e29dff-70e8-4852-fa61-554a8c4db6e0"
      },
      "execution_count": 67,
      "outputs": [
        {
          "output_type": "stream",
          "name": "stdout",
          "text": [
            "f'(x) = 6*x**2 - 8*x\n",
            "f'(x) = 6*x**2 - 8*x\n"
          ]
        }
      ]
    }
  ]
}